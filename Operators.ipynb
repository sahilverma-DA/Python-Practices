{
 "cells": [
  {
   "cell_type": "markdown",
   "id": "376ef61a-f975-4ee2-98c4-0b823dee260f",
   "metadata": {},
   "source": [
    "## Operators"
   ]
  },
  {
   "cell_type": "markdown",
   "id": "cb5da115-2874-42a4-bff8-5b5b8c00f0c3",
   "metadata": {},
   "source": [
    "### Arithematic Operators"
   ]
  },
  {
   "cell_type": "code",
   "execution_count": 1,
   "id": "5ece51e9-5ddc-421b-b3ef-7bdc4e98934d",
   "metadata": {},
   "outputs": [
    {
     "data": {
      "text/plain": [
       "3"
      ]
     },
     "execution_count": 1,
     "metadata": {},
     "output_type": "execute_result"
    }
   ],
   "source": [
    "1 + 2"
   ]
  },
  {
   "cell_type": "code",
   "execution_count": 2,
   "id": "4030a8a6-1674-439d-bc4c-59ad932bceb4",
   "metadata": {},
   "outputs": [
    {
     "data": {
      "text/plain": [
       "20"
      ]
     },
     "execution_count": 2,
     "metadata": {},
     "output_type": "execute_result"
    }
   ],
   "source": [
    "4*5"
   ]
  },
  {
   "cell_type": "code",
   "execution_count": 5,
   "id": "77e0b41c-c7a6-403a-ad1a-34d6b61e4a4c",
   "metadata": {},
   "outputs": [
    {
     "data": {
      "text/plain": [
       "8"
      ]
     },
     "execution_count": 5,
     "metadata": {},
     "output_type": "execute_result"
    }
   ],
   "source": [
    "2 ** 3"
   ]
  },
  {
   "cell_type": "code",
   "execution_count": 4,
   "id": "6951fbe7-960b-4a5f-94f5-07f21bbfe301",
   "metadata": {},
   "outputs": [
    {
     "data": {
      "text/plain": [
       "4.0"
      ]
     },
     "execution_count": 4,
     "metadata": {},
     "output_type": "execute_result"
    }
   ],
   "source": [
    "20 /5"
   ]
  },
  {
   "cell_type": "code",
   "execution_count": 8,
   "id": "6ac9d366-acd6-4691-b08d-af206dc39564",
   "metadata": {},
   "outputs": [
    {
     "data": {
      "text/plain": [
       "2"
      ]
     },
     "execution_count": 8,
     "metadata": {},
     "output_type": "execute_result"
    }
   ],
   "source": [
    "# give reminder \n",
    "20 % 6"
   ]
  },
  {
   "cell_type": "markdown",
   "id": "8f3209bf-e23a-4cd1-a5e7-e77603660d6a",
   "metadata": {},
   "source": [
    "### Arithematic Operators with String"
   ]
  },
  {
   "cell_type": "code",
   "execution_count": 9,
   "id": "c449c5b4-9677-4ccb-a74f-c18f84049caf",
   "metadata": {},
   "outputs": [
    {
     "data": {
      "text/plain": [
       "' string 1 string 2'"
      ]
     },
     "execution_count": 9,
     "metadata": {},
     "output_type": "execute_result"
    }
   ],
   "source": [
    "' string 1 ' + 'string 2'"
   ]
  },
  {
   "cell_type": "code",
   "execution_count": 10,
   "id": "df656656-0f4d-4ef5-b2cd-629d9bdd9284",
   "metadata": {},
   "outputs": [
    {
     "data": {
      "text/plain": [
       "'string 1string 1string 1string 1'"
      ]
     },
     "execution_count": 10,
     "metadata": {},
     "output_type": "execute_result"
    }
   ],
   "source": [
    "'string 1' *4"
   ]
  },
  {
   "cell_type": "code",
   "execution_count": null,
   "id": "12be25a9-8036-4bb6-beeb-e4611457a509",
   "metadata": {},
   "outputs": [],
   "source": []
  },
  {
   "cell_type": "markdown",
   "id": "320089e8-8e61-4124-9df8-45d3e0cece06",
   "metadata": {},
   "source": [
    "## Comparison, Logical, and Membership Operator"
   ]
  },
  {
   "cell_type": "code",
   "execution_count": null,
   "id": "fff33828-f606-441c-9270-1973425ab320",
   "metadata": {},
   "outputs": [],
   "source": []
  },
  {
   "cell_type": "markdown",
   "id": "da550d83-32de-4919-86f7-54b38f943797",
   "metadata": {},
   "source": [
    "### Comparision Operators"
   ]
  },
  {
   "cell_type": "code",
   "execution_count": 11,
   "id": "ce7d4425-74f9-416f-b421-9e620a694f2c",
   "metadata": {},
   "outputs": [
    {
     "data": {
      "text/plain": [
       "True"
      ]
     },
     "execution_count": 11,
     "metadata": {},
     "output_type": "execute_result"
    }
   ],
   "source": [
    "True == True"
   ]
  },
  {
   "cell_type": "code",
   "execution_count": 12,
   "id": "313a9d44-1e7f-4ce1-b66d-c03700ffc66d",
   "metadata": {},
   "outputs": [
    {
     "data": {
      "text/plain": [
       "True"
      ]
     },
     "execution_count": 12,
     "metadata": {},
     "output_type": "execute_result"
    }
   ],
   "source": [
    "2 <5"
   ]
  },
  {
   "cell_type": "code",
   "execution_count": 13,
   "id": "9e141cbc-0263-4cc8-9808-8c6a12f90f99",
   "metadata": {},
   "outputs": [
    {
     "data": {
      "text/plain": [
       "True"
      ]
     },
     "execution_count": 13,
     "metadata": {},
     "output_type": "execute_result"
    }
   ],
   "source": [
    "5>=5"
   ]
  },
  {
   "cell_type": "code",
   "execution_count": 14,
   "id": "3904102d-7f4e-4069-a29b-7e736d83234c",
   "metadata": {},
   "outputs": [
    {
     "data": {
      "text/plain": [
       "True"
      ]
     },
     "execution_count": 14,
     "metadata": {},
     "output_type": "execute_result"
    }
   ],
   "source": [
    "2<=5"
   ]
  },
  {
   "cell_type": "markdown",
   "id": "e3630513-6c6b-4c76-89af-76bb04b884f5",
   "metadata": {},
   "source": [
    "### Logical Operators (and, or, not)"
   ]
  },
  {
   "cell_type": "code",
   "execution_count": 15,
   "id": "16569689-cc45-44e0-a491-df11839cbbd4",
   "metadata": {},
   "outputs": [
    {
     "data": {
      "text/plain": [
       "True"
      ]
     },
     "execution_count": 15,
     "metadata": {},
     "output_type": "execute_result"
    }
   ],
   "source": [
    "True and True"
   ]
  },
  {
   "cell_type": "code",
   "execution_count": 16,
   "id": "57d44ab9-0ef6-4362-97dc-0da52f07bc51",
   "metadata": {},
   "outputs": [
    {
     "data": {
      "text/plain": [
       "False"
      ]
     },
     "execution_count": 16,
     "metadata": {},
     "output_type": "execute_result"
    }
   ],
   "source": [
    "True and False"
   ]
  },
  {
   "cell_type": "code",
   "execution_count": 17,
   "id": "4d2462fd-b7b5-4a45-9e9b-8ad120206047",
   "metadata": {},
   "outputs": [
    {
     "data": {
      "text/plain": [
       "False"
      ]
     },
     "execution_count": 17,
     "metadata": {},
     "output_type": "execute_result"
    }
   ],
   "source": [
    "False and True "
   ]
  },
  {
   "cell_type": "code",
   "execution_count": 25,
   "id": "40f44fbf-488a-468f-9649-2258d283efe2",
   "metadata": {},
   "outputs": [
    {
     "data": {
      "text/plain": [
       "False"
      ]
     },
     "execution_count": 25,
     "metadata": {},
     "output_type": "execute_result"
    }
   ],
   "source": [
    "False and False"
   ]
  },
  {
   "cell_type": "code",
   "execution_count": 19,
   "id": "574d1f8e-6d9b-4efe-8840-54fda58037a7",
   "metadata": {},
   "outputs": [
    {
     "data": {
      "text/plain": [
       "True"
      ]
     },
     "execution_count": 19,
     "metadata": {},
     "output_type": "execute_result"
    }
   ],
   "source": [
    "True or True"
   ]
  },
  {
   "cell_type": "code",
   "execution_count": 20,
   "id": "4057e3ff-302f-4fae-8462-512d9c7484a3",
   "metadata": {},
   "outputs": [
    {
     "data": {
      "text/plain": [
       "True"
      ]
     },
     "execution_count": 20,
     "metadata": {},
     "output_type": "execute_result"
    }
   ],
   "source": [
    "True or False"
   ]
  },
  {
   "cell_type": "code",
   "execution_count": 21,
   "id": "aa343819-0dff-4638-abfa-90ab2371cd9c",
   "metadata": {},
   "outputs": [
    {
     "data": {
      "text/plain": [
       "True"
      ]
     },
     "execution_count": 21,
     "metadata": {},
     "output_type": "execute_result"
    }
   ],
   "source": [
    "False or True"
   ]
  },
  {
   "cell_type": "code",
   "execution_count": 22,
   "id": "3670a4f3-16bb-4551-8ced-0da854fcae4e",
   "metadata": {},
   "outputs": [
    {
     "data": {
      "text/plain": [
       "False"
      ]
     },
     "execution_count": 22,
     "metadata": {},
     "output_type": "execute_result"
    }
   ],
   "source": [
    "False or False"
   ]
  },
  {
   "cell_type": "code",
   "execution_count": 23,
   "id": "fb252d2a-5a40-4670-8316-d0cfb5a8fc13",
   "metadata": {},
   "outputs": [
    {
     "data": {
      "text/plain": [
       "False"
      ]
     },
     "execution_count": 23,
     "metadata": {},
     "output_type": "execute_result"
    }
   ],
   "source": [
    "not True"
   ]
  },
  {
   "cell_type": "code",
   "execution_count": 24,
   "id": "a3c680d4-e859-4525-bcad-7a033a286e7d",
   "metadata": {},
   "outputs": [
    {
     "data": {
      "text/plain": [
       "True"
      ]
     },
     "execution_count": 24,
     "metadata": {},
     "output_type": "execute_result"
    }
   ],
   "source": [
    "not False"
   ]
  },
  {
   "cell_type": "markdown",
   "id": "c6382400-8ed8-485b-bc93-f991269a3f09",
   "metadata": {},
   "source": [
    "### Membership Operators"
   ]
  },
  {
   "cell_type": "code",
   "execution_count": 26,
   "id": "06595dbf-0c16-490e-9e61-d416c45bb653",
   "metadata": {},
   "outputs": [
    {
     "data": {
      "text/plain": [
       "True"
      ]
     },
     "execution_count": 26,
     "metadata": {},
     "output_type": "execute_result"
    }
   ],
   "source": [
    "1 in [1,2,3,4,5]"
   ]
  },
  {
   "cell_type": "code",
   "execution_count": 27,
   "id": "74a814f1-a39d-4315-9621-96b0c2212f8c",
   "metadata": {},
   "outputs": [
    {
     "data": {
      "text/plain": [
       "False"
      ]
     },
     "execution_count": 27,
     "metadata": {},
     "output_type": "execute_result"
    }
   ],
   "source": [
    "1 in [2,3,4]"
   ]
  },
  {
   "cell_type": "code",
   "execution_count": 28,
   "id": "19ac3ee7-507c-428e-95aa-0702b0de1473",
   "metadata": {},
   "outputs": [
    {
     "data": {
      "text/plain": [
       "True"
      ]
     },
     "execution_count": 28,
     "metadata": {},
     "output_type": "execute_result"
    }
   ],
   "source": [
    "1 not in [3,4,5]"
   ]
  },
  {
   "cell_type": "code",
   "execution_count": 29,
   "id": "3a1af6aa-eabc-4e6e-8479-8a8e4b3d308e",
   "metadata": {},
   "outputs": [
    {
     "data": {
      "text/plain": [
       "True"
      ]
     },
     "execution_count": 29,
     "metadata": {},
     "output_type": "execute_result"
    }
   ],
   "source": [
    "'cat' in 'in my cat'"
   ]
  },
  {
   "cell_type": "code",
   "execution_count": 30,
   "id": "b6274ae3-4beb-4fe4-bb27-ee75b6eea0da",
   "metadata": {},
   "outputs": [
    {
     "data": {
      "text/plain": [
       "False"
      ]
     },
     "execution_count": 30,
     "metadata": {},
     "output_type": "execute_result"
    }
   ],
   "source": [
    "'cat' not in 'in my cat'"
   ]
  },
  {
   "cell_type": "code",
   "execution_count": null,
   "id": "8ea6bdeb-6c45-4da9-a771-de9eba92dd07",
   "metadata": {},
   "outputs": [],
   "source": []
  }
 ],
 "metadata": {
  "kernelspec": {
   "display_name": "Python 3 (ipykernel)",
   "language": "python",
   "name": "python3"
  },
  "language_info": {
   "codemirror_mode": {
    "name": "ipython",
    "version": 3
   },
   "file_extension": ".py",
   "mimetype": "text/x-python",
   "name": "python",
   "nbconvert_exporter": "python",
   "pygments_lexer": "ipython3",
   "version": "3.11.7"
  }
 },
 "nbformat": 4,
 "nbformat_minor": 5
}
