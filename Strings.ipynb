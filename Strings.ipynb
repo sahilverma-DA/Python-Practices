{
 "cells": [
  {
   "cell_type": "markdown",
   "id": "d7f11b9c-1b19-4d9b-a8e2-4cc9f8923a91",
   "metadata": {},
   "source": [
    "## Strings"
   ]
  },
  {
   "cell_type": "markdown",
   "id": "e5381a15-36b6-45f0-8dae-1fd3e0533f4c",
   "metadata": {},
   "source": [
    "### Slicing"
   ]
  },
  {
   "cell_type": "code",
   "execution_count": 1,
   "id": "71159896-cca6-43cc-b85a-a82fad9166f4",
   "metadata": {},
   "outputs": [],
   "source": [
    "name = 'My name is Sahil Verma'"
   ]
  },
  {
   "cell_type": "code",
   "execution_count": 2,
   "id": "cd2dd24d-29cd-41b7-a685-c339d18df219",
   "metadata": {},
   "outputs": [
    {
     "data": {
      "text/plain": [
       "'y'"
      ]
     },
     "execution_count": 2,
     "metadata": {},
     "output_type": "execute_result"
    }
   ],
   "source": [
    "name[1]"
   ]
  },
  {
   "cell_type": "code",
   "execution_count": 3,
   "id": "a8133165-e285-4e57-93e8-0135e00dc15b",
   "metadata": {},
   "outputs": [
    {
     "data": {
      "text/plain": [
       "'My name '"
      ]
     },
     "execution_count": 3,
     "metadata": {},
     "output_type": "execute_result"
    }
   ],
   "source": [
    "name[0:8]"
   ]
  },
  {
   "cell_type": "code",
   "execution_count": 4,
   "id": "b84882a5-2131-4d50-9b2f-1734762924ec",
   "metadata": {},
   "outputs": [
    {
     "data": {
      "text/plain": [
       "'My name '"
      ]
     },
     "execution_count": 4,
     "metadata": {},
     "output_type": "execute_result"
    }
   ],
   "source": [
    "name[:8]"
   ]
  },
  {
   "cell_type": "code",
   "execution_count": 5,
   "id": "17177fda-03e9-4026-8ecf-78d7ee26a547",
   "metadata": {},
   "outputs": [
    {
     "data": {
      "text/plain": [
       "'is Sahil Verma'"
      ]
     },
     "execution_count": 5,
     "metadata": {},
     "output_type": "execute_result"
    }
   ],
   "source": [
    "name[8:]"
   ]
  },
  {
   "cell_type": "markdown",
   "id": "ad8006df-c4dc-4561-9953-628d50e81a75",
   "metadata": {},
   "source": [
    "### Fomating"
   ]
  },
  {
   "cell_type": "code",
   "execution_count": 6,
   "id": "10ad3543-9f08-4c40-8dd2-c298d487ab5f",
   "metadata": {},
   "outputs": [
    {
     "data": {
      "text/plain": [
       "'My number is :5'"
      ]
     },
     "execution_count": 6,
     "metadata": {},
     "output_type": "execute_result"
    }
   ],
   "source": [
    "'My number is :' + str(5)"
   ]
  },
  {
   "cell_type": "code",
   "execution_count": 7,
   "id": "ca25f13e-18e5-4d90-a70f-8059323f1e51",
   "metadata": {},
   "outputs": [
    {
     "data": {
      "text/plain": [
       "'My number is 5'"
      ]
     },
     "execution_count": 7,
     "metadata": {},
     "output_type": "execute_result"
    }
   ],
   "source": [
    "f'My number is {5}'"
   ]
  },
  {
   "cell_type": "code",
   "execution_count": 8,
   "id": "5959a84b-1308-473c-850b-bfe02fcc5f6b",
   "metadata": {},
   "outputs": [
    {
     "data": {
      "text/plain": [
       "'My number is 5 and multiped by 5 : 25'"
      ]
     },
     "execution_count": 8,
     "metadata": {},
     "output_type": "execute_result"
    }
   ],
   "source": [
    "f'My number is {5} and multiped by 5 : {5*5}'"
   ]
  },
  {
   "cell_type": "markdown",
   "id": "e30da3a2-3e11-4c28-8e04-b652edf9c2e1",
   "metadata": {},
   "source": [
    "### Multi-line Strings"
   ]
  },
  {
   "cell_type": "code",
   "execution_count": 13,
   "id": "430a19d3-30c8-469f-91de-02a2da34a6b8",
   "metadata": {},
   "outputs": [],
   "source": [
    "mystring = '''\n",
    "Here is a long bock of lines\n",
    "i can write whatever i want \n",
    "and how many lines of it'''"
   ]
  },
  {
   "cell_type": "code",
   "execution_count": 14,
   "id": "67e7f51a-9312-462d-9992-c3c2d733b886",
   "metadata": {},
   "outputs": [
    {
     "data": {
      "text/plain": [
       "'\\nHere is a long bock of lines\\ni can write whatever i want \\nand how many lines of it'"
      ]
     },
     "execution_count": 14,
     "metadata": {},
     "output_type": "execute_result"
    }
   ],
   "source": [
    "mystring"
   ]
  },
  {
   "cell_type": "code",
   "execution_count": 15,
   "id": "e5a91f9f-bc5c-4faf-b10d-7c4b2e60a943",
   "metadata": {},
   "outputs": [
    {
     "name": "stdout",
     "output_type": "stream",
     "text": [
      "\n",
      "Here is a long bock of lines\n",
      "i can write whatever i want \n",
      "and how many lines of it\n"
     ]
    }
   ],
   "source": [
    "print(mystring)"
   ]
  },
  {
   "cell_type": "code",
   "execution_count": null,
   "id": "d7ec69ff-ba1a-4443-8299-a2d5895d2f42",
   "metadata": {},
   "outputs": [],
   "source": []
  }
 ],
 "metadata": {
  "kernelspec": {
   "display_name": "Python 3 (ipykernel)",
   "language": "python",
   "name": "python3"
  },
  "language_info": {
   "codemirror_mode": {
    "name": "ipython",
    "version": 3
   },
   "file_extension": ".py",
   "mimetype": "text/x-python",
   "name": "python",
   "nbconvert_exporter": "python",
   "pygments_lexer": "ipython3",
   "version": "3.11.7"
  }
 },
 "nbformat": 4,
 "nbformat_minor": 5
}
