{
 "cells": [
  {
   "cell_type": "markdown",
   "id": "56f73779-f8c5-4ee4-b8fc-641acfd6fa84",
   "metadata": {},
   "source": [
    "## Functions"
   ]
  },
  {
   "cell_type": "code",
   "execution_count": 1,
   "id": "cde72f05-4f74-4238-b40a-e27c3e7179c8",
   "metadata": {},
   "outputs": [],
   "source": [
    "def multiply(val1,val2):\n",
    "    return val1 * val2\n"
   ]
  },
  {
   "cell_type": "code",
   "execution_count": 2,
   "id": "47f12b60-8aa2-4f70-88ba-cbd7ec6b39cc",
   "metadata": {},
   "outputs": [
    {
     "data": {
      "text/plain": [
       "6"
      ]
     },
     "execution_count": 2,
     "metadata": {},
     "output_type": "execute_result"
    }
   ],
   "source": [
    "multiply(2,3)"
   ]
  },
  {
   "cell_type": "code",
   "execution_count": 3,
   "id": "8375220a-5a32-4441-bad6-1a1c647d7cc3",
   "metadata": {},
   "outputs": [
    {
     "name": "stdout",
     "output_type": "stream",
     "text": [
      "[1, 2, 3, 4]\n"
     ]
    }
   ],
   "source": [
    "a = [1,2,3]\n",
    "def appendfour(mylist):\n",
    "    return mylist.append(4)\n",
    "\n",
    "appendfour(a)\n",
    "print(a)"
   ]
  },
  {
   "cell_type": "code",
   "execution_count": null,
   "id": "cdf346ee-d045-41c9-91c1-bf98ab2b14c0",
   "metadata": {},
   "outputs": [],
   "source": []
  }
 ],
 "metadata": {
  "kernelspec": {
   "display_name": "Python 3 (ipykernel)",
   "language": "python",
   "name": "python3"
  },
  "language_info": {
   "codemirror_mode": {
    "name": "ipython",
    "version": 3
   },
   "file_extension": ".py",
   "mimetype": "text/x-python",
   "name": "python",
   "nbconvert_exporter": "python",
   "pygments_lexer": "ipython3",
   "version": "3.11.7"
  }
 },
 "nbformat": 4,
 "nbformat_minor": 5
}
