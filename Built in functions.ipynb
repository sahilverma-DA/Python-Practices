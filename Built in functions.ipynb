{
 "cells": [
  {
   "cell_type": "markdown",
   "id": "87d67385-7b66-4880-aa41-b3f8122f2e6f",
   "metadata": {},
   "source": [
    "## Built in functions"
   ]
  },
  {
   "cell_type": "markdown",
   "id": "48bdea3c-21c3-4a48-8781-f1df52380570",
   "metadata": {},
   "source": [
    "### Float function"
   ]
  },
  {
   "cell_type": "code",
   "execution_count": 6,
   "id": "472ac8e4-2f89-4cb9-b53a-85d2a7862787",
   "metadata": {},
   "outputs": [
    {
     "name": "stdout",
     "output_type": "stream",
     "text": [
      "<class 'int'>\n",
      "<class 'float'>\n"
     ]
    }
   ],
   "source": [
    "num = 10\n",
    "print(type(num))\n",
    "a = float(num)\n",
    "print(type(a))"
   ]
  },
  {
   "cell_type": "markdown",
   "id": "60df2742-f535-450b-8b56-37afd50d5a3b",
   "metadata": {},
   "source": [
    "### String function"
   ]
  },
  {
   "cell_type": "code",
   "execution_count": 7,
   "id": "b84b23b4-e4ca-4ac2-a772-e21857f9fbda",
   "metadata": {},
   "outputs": [
    {
     "name": "stdout",
     "output_type": "stream",
     "text": [
      "<class 'str'>\n"
     ]
    }
   ],
   "source": [
    "a = 'hello guys'\n",
    "print(type(a))"
   ]
  },
  {
   "cell_type": "markdown",
   "id": "2f12a08f-5eb9-420c-bae2-8d394de3def8",
   "metadata": {},
   "source": [
    "### Integer function"
   ]
  },
  {
   "cell_type": "code",
   "execution_count": 12,
   "id": "6a15825e-5157-4338-94c8-e6d6da0692c4",
   "metadata": {},
   "outputs": [
    {
     "name": "stdout",
     "output_type": "stream",
     "text": [
      "<class 'float'>\n",
      "10\n",
      "<class 'int'>\n"
     ]
    }
   ],
   "source": [
    "a = 10.3453\n",
    "print(type(a))\n",
    "b = int(a)\n",
    "print(b)\n",
    "print(type(b))"
   ]
  },
  {
   "cell_type": "markdown",
   "id": "6900b094-0b07-45bd-8381-b93f9fb22da6",
   "metadata": {},
   "source": [
    "### Complex function"
   ]
  },
  {
   "cell_type": "code",
   "execution_count": 13,
   "id": "20b5837f-86ef-4baa-a672-b099f43e5bd1",
   "metadata": {},
   "outputs": [
    {
     "name": "stdout",
     "output_type": "stream",
     "text": [
      "(2+3j)\n"
     ]
    }
   ],
   "source": [
    "com = complex(2,3)\n",
    "print(com)"
   ]
  },
  {
   "cell_type": "code",
   "execution_count": 15,
   "id": "4091dc20-ec2f-4914-8577-ffcdbb621847",
   "metadata": {},
   "outputs": [
    {
     "name": "stdout",
     "output_type": "stream",
     "text": [
      "<class 'complex'>\n"
     ]
    }
   ],
   "source": [
    "print(type(com))"
   ]
  },
  {
   "cell_type": "markdown",
   "id": "85afe7f1-aec7-4496-9fb6-f96b97502fd8",
   "metadata": {},
   "source": [
    "### abs(absolute) function"
   ]
  },
  {
   "cell_type": "code",
   "execution_count": 16,
   "id": "007fb7c4-621b-455d-b31d-fa03d5f1637e",
   "metadata": {},
   "outputs": [
    {
     "name": "stdout",
     "output_type": "stream",
     "text": [
      "34.45\n"
     ]
    }
   ],
   "source": [
    "x = -34.45\n",
    "print(abs(x))"
   ]
  },
  {
   "cell_type": "markdown",
   "id": "5ff2dead-e4c9-4461-92eb-d259018fe082",
   "metadata": {},
   "source": [
    "### len function"
   ]
  },
  {
   "cell_type": "code",
   "execution_count": 17,
   "id": "db9dda98-2804-4978-8c95-64407db72d78",
   "metadata": {},
   "outputs": [
    {
     "name": "stdout",
     "output_type": "stream",
     "text": [
      "8\n"
     ]
    }
   ],
   "source": [
    "name = 'himanshu'\n",
    "print(len(name))"
   ]
  },
  {
   "cell_type": "markdown",
   "id": "8b2f83ba-39db-48d0-83a9-76f722305bb3",
   "metadata": {},
   "source": [
    "#### So there are many more functions like bin,sum..etc."
   ]
  },
  {
   "cell_type": "code",
   "execution_count": null,
   "id": "890753a0-9d1e-4086-923c-4a798e186c53",
   "metadata": {},
   "outputs": [],
   "source": []
  }
 ],
 "metadata": {
  "kernelspec": {
   "display_name": "Python 3 (ipykernel)",
   "language": "python",
   "name": "python3"
  },
  "language_info": {
   "codemirror_mode": {
    "name": "ipython",
    "version": 3
   },
   "file_extension": ".py",
   "mimetype": "text/x-python",
   "name": "python",
   "nbconvert_exporter": "python",
   "pygments_lexer": "ipython3",
   "version": "3.11.7"
  }
 },
 "nbformat": 4,
 "nbformat_minor": 5
}
