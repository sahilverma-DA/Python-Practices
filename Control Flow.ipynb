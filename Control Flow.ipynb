{
 "cells": [
  {
   "cell_type": "markdown",
   "id": "55744e5f-774a-440c-bc77-b75466cc3435",
   "metadata": {},
   "source": [
    "## Control Flow"
   ]
  },
  {
   "cell_type": "markdown",
   "id": "4bd28c14-2752-4d66-9312-f68ab8a05136",
   "metadata": {},
   "source": [
    "### If / Else Statements"
   ]
  },
  {
   "cell_type": "code",
   "execution_count": 7,
   "id": "cc9c589b-9b02-46e9-ba7a-d8ad65d35d86",
   "metadata": {},
   "outputs": [
    {
     "name": "stdout",
     "output_type": "stream",
     "text": [
      "This is true\n",
      "b is also true\n",
      "c is also true\n"
     ]
    }
   ],
   "source": [
    "a = True\n",
    "b = True\n",
    "c = True\n",
    "if a:\n",
    "    print('This is true')\n",
    "    if b:\n",
    "        print('b is also true')\n",
    "        if c:\n",
    "            print('c is also true')\n",
    "else:\n",
    "    print('This is false')"
   ]
  },
  {
   "cell_type": "markdown",
   "id": "217c790a-d667-4059-9e4f-d8db803cea73",
   "metadata": {},
   "source": [
    "### For loops"
   ]
  },
  {
   "cell_type": "code",
   "execution_count": 9,
   "id": "c6255c12-fd23-446e-a107-14dbabcd047b",
   "metadata": {},
   "outputs": [
    {
     "name": "stdout",
     "output_type": "stream",
     "text": [
      "1\n",
      "2\n",
      "3\n",
      "4\n",
      "5\n"
     ]
    }
   ],
   "source": [
    "a = [1,2,3,4,5]\n",
    "for numbers in a:\n",
    "    print(numbers)"
   ]
  },
  {
   "cell_type": "markdown",
   "id": "13dfe52a-71d9-49fe-9cc4-02c0a736b317",
   "metadata": {},
   "source": [
    "### While loops"
   ]
  },
  {
   "cell_type": "code",
   "execution_count": 10,
   "id": "1862911c-9cf0-4610-8c8e-6090c25603f3",
   "metadata": {},
   "outputs": [
    {
     "name": "stdout",
     "output_type": "stream",
     "text": [
      "0\n",
      "1\n",
      "2\n",
      "3\n",
      "4\n"
     ]
    }
   ],
   "source": [
    "a = 0\n",
    "while a <5:\n",
    "    print(a)\n",
    "    a = a + 1"
   ]
  },
  {
   "cell_type": "code",
   "execution_count": null,
   "id": "2a33e479-a3fa-4a85-836f-bb47275bea89",
   "metadata": {},
   "outputs": [],
   "source": []
  }
 ],
 "metadata": {
  "kernelspec": {
   "display_name": "Python 3 (ipykernel)",
   "language": "python",
   "name": "python3"
  },
  "language_info": {
   "codemirror_mode": {
    "name": "ipython",
    "version": 3
   },
   "file_extension": ".py",
   "mimetype": "text/x-python",
   "name": "python",
   "nbconvert_exporter": "python",
   "pygments_lexer": "ipython3",
   "version": "3.11.7"
  }
 },
 "nbformat": 4,
 "nbformat_minor": 5
}
