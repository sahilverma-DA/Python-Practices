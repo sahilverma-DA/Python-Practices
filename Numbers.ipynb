{
 "cells": [
  {
   "cell_type": "code",
   "execution_count": 1,
   "id": "d1660b59-e916-4dd8-a598-4b37691aba1b",
   "metadata": {},
   "outputs": [],
   "source": [
    "from decimal import Decimal,getcontext"
   ]
  },
  {
   "cell_type": "markdown",
   "id": "d32d9c6d-b7d5-48b9-9999-1d79a4065d6c",
   "metadata": {},
   "source": [
    "### Integers"
   ]
  },
  {
   "cell_type": "code",
   "execution_count": 2,
   "id": "3edbe104-4c11-4f82-85fb-6a133cd6ff28",
   "metadata": {},
   "outputs": [
    {
     "data": {
      "text/plain": [
       "100"
      ]
     },
     "execution_count": 2,
     "metadata": {},
     "output_type": "execute_result"
    }
   ],
   "source": [
    "int(100)"
   ]
  },
  {
   "cell_type": "code",
   "execution_count": 3,
   "id": "596579fd-d318-4aea-b6bf-093de54744f7",
   "metadata": {},
   "outputs": [
    {
     "data": {
      "text/plain": [
       "100"
      ]
     },
     "execution_count": 3,
     "metadata": {},
     "output_type": "execute_result"
    }
   ],
   "source": [
    "int('100')"
   ]
  },
  {
   "cell_type": "code",
   "execution_count": 4,
   "id": "df8924a7-df48-4f48-aa3d-8570c3c5dd04",
   "metadata": {},
   "outputs": [
    {
     "data": {
      "text/plain": [
       "4"
      ]
     },
     "execution_count": 4,
     "metadata": {},
     "output_type": "execute_result"
    }
   ],
   "source": [
    "int('100',2)"
   ]
  },
  {
   "cell_type": "code",
   "execution_count": 5,
   "id": "a99268cd-fce8-40fc-8031-404edf9ae3aa",
   "metadata": {},
   "outputs": [
    {
     "ename": "TypeError",
     "evalue": "int() can't convert non-string with explicit base",
     "output_type": "error",
     "traceback": [
      "\u001b[1;31m---------------------------------------------------------------------------\u001b[0m",
      "\u001b[1;31mTypeError\u001b[0m                                 Traceback (most recent call last)",
      "Cell \u001b[1;32mIn[5], line 1\u001b[0m\n\u001b[1;32m----> 1\u001b[0m \u001b[38;5;28mint\u001b[39m(\u001b[38;5;241m100\u001b[39m,\u001b[38;5;241m2\u001b[39m)\n",
      "\u001b[1;31mTypeError\u001b[0m: int() can't convert non-string with explicit base"
     ]
    }
   ],
   "source": [
    "int(100,2)"
   ]
  },
  {
   "cell_type": "code",
   "execution_count": 7,
   "id": "c1f16f75-c71c-42f2-a3d5-a2c46042a88e",
   "metadata": {},
   "outputs": [
    {
     "data": {
      "text/plain": [
       "0.19999999999999996"
      ]
     },
     "execution_count": 7,
     "metadata": {},
     "output_type": "execute_result"
    }
   ],
   "source": [
    "1.2 - 1.0"
   ]
  },
  {
   "cell_type": "code",
   "execution_count": 10,
   "id": "e48de629-69ad-4c50-9c3a-96805a909656",
   "metadata": {},
   "outputs": [
    {
     "data": {
      "text/plain": [
       "0.2"
      ]
     },
     "execution_count": 10,
     "metadata": {},
     "output_type": "execute_result"
    }
   ],
   "source": [
    "round(1.2-1.0,2)"
   ]
  },
  {
   "cell_type": "markdown",
   "id": "24b2ee3d-aff1-454d-b825-775f1b49ac09",
   "metadata": {},
   "source": [
    "### Decimals"
   ]
  },
  {
   "cell_type": "code",
   "execution_count": 11,
   "id": "8a0e05d7-6c82-47d3-a4af-ad5cf928ab99",
   "metadata": {},
   "outputs": [
    {
     "data": {
      "text/plain": [
       "Context(prec=28, rounding=ROUND_HALF_EVEN, Emin=-999999, Emax=999999, capitals=1, clamp=0, flags=[], traps=[InvalidOperation, DivisionByZero, Overflow])"
      ]
     },
     "execution_count": 11,
     "metadata": {},
     "output_type": "execute_result"
    }
   ],
   "source": [
    "getcontext()"
   ]
  },
  {
   "cell_type": "code",
   "execution_count": 12,
   "id": "5bbb466d-0d65-4ee7-906d-a08582649aa0",
   "metadata": {},
   "outputs": [],
   "source": [
    "getcontext().prec = 4"
   ]
  },
  {
   "cell_type": "code",
   "execution_count": 13,
   "id": "15128429-83a9-4831-bf17-207c41f2f2d5",
   "metadata": {},
   "outputs": [
    {
     "data": {
      "text/plain": [
       "Context(prec=4, rounding=ROUND_HALF_EVEN, Emin=-999999, Emax=999999, capitals=1, clamp=0, flags=[], traps=[InvalidOperation, DivisionByZero, Overflow])"
      ]
     },
     "execution_count": 13,
     "metadata": {},
     "output_type": "execute_result"
    }
   ],
   "source": [
    "getcontext()"
   ]
  },
  {
   "cell_type": "code",
   "execution_count": 14,
   "id": "3ba316b1-1edb-4645-b227-9bbaf6a26b23",
   "metadata": {},
   "outputs": [],
   "source": [
    "getcontext().prec = 2"
   ]
  },
  {
   "cell_type": "code",
   "execution_count": 15,
   "id": "68b78202-624a-4570-bed6-e0b8c19a9308",
   "metadata": {},
   "outputs": [
    {
     "data": {
      "text/plain": [
       "Decimal('0.33')"
      ]
     },
     "execution_count": 15,
     "metadata": {},
     "output_type": "execute_result"
    }
   ],
   "source": [
    "Decimal(1)/Decimal(3)"
   ]
  },
  {
   "cell_type": "code",
   "execution_count": 16,
   "id": "cfbdaa02-b821-43b5-bb11-8838e57a61b4",
   "metadata": {},
   "outputs": [
    {
     "data": {
      "text/plain": [
       "Decimal('3.140000000000000124344978758017532527446746826171875')"
      ]
     },
     "execution_count": 16,
     "metadata": {},
     "output_type": "execute_result"
    }
   ],
   "source": [
    "Decimal(3.14)"
   ]
  },
  {
   "cell_type": "code",
   "execution_count": null,
   "id": "59ef784b-5009-4027-9d30-f8c3226a2208",
   "metadata": {},
   "outputs": [],
   "source": []
  }
 ],
 "metadata": {
  "kernelspec": {
   "display_name": "Python 3 (ipykernel)",
   "language": "python",
   "name": "python3"
  },
  "language_info": {
   "codemirror_mode": {
    "name": "ipython",
    "version": 3
   },
   "file_extension": ".py",
   "mimetype": "text/x-python",
   "name": "python",
   "nbconvert_exporter": "python",
   "pygments_lexer": "ipython3",
   "version": "3.11.7"
  }
 },
 "nbformat": 4,
 "nbformat_minor": 5
}
