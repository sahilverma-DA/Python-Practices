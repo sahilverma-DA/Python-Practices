{
 "cells": [
  {
   "attachments": {},
   "cell_type": "markdown",
   "id": "2701b09c-6e30-46ca-be91-ddebc28b36ab",
   "metadata": {},
   "source": [
    "Learning Coding from Linkedin Courses\n",
    "\n"
   ]
  },
  {
   "cell_type": "code",
   "execution_count": 1,
   "id": "8a3e35b7-8590-4a3b-b8aa-aea4fd0eb5b9",
   "metadata": {
    "scrolled": true
   },
   "outputs": [
    {
     "name": "stdout",
     "output_type": "stream",
     "text": [
      "Starting from basics\n"
     ]
    }
   ],
   "source": [
    "print(\"Starting from basics\")"
   ]
  },
  {
   "cell_type": "markdown",
   "id": "8a8fe8f9-e54e-4295-bc92-23a54d6c8200",
   "metadata": {},
   "source": [
    "## Basic Datatypes"
   ]
  },
  {
   "cell_type": "markdown",
   "id": "e71854a5-ee96-43dd-8aab-4cdd46b87be6",
   "metadata": {},
   "source": [
    "### Defining a Variable"
   ]
  },
  {
   "cell_type": "code",
   "execution_count": 2,
   "id": "63b2c879-33ff-4839-9274-0a518449e344",
   "metadata": {},
   "outputs": [],
   "source": [
    "x = 5"
   ]
  },
  {
   "cell_type": "code",
   "execution_count": 3,
   "id": "1df2e933-2933-4cf4-938e-b8fba0bfef31",
   "metadata": {},
   "outputs": [
    {
     "name": "stdout",
     "output_type": "stream",
     "text": [
      "5\n"
     ]
    }
   ],
   "source": [
    "print(x)"
   ]
  },
  {
   "cell_type": "code",
   "execution_count": 4,
   "id": "36c37f83-cae4-4f8d-8ebc-a840288a7dc9",
   "metadata": {},
   "outputs": [
    {
     "data": {
      "text/plain": [
       "5"
      ]
     },
     "execution_count": 4,
     "metadata": {},
     "output_type": "execute_result"
    }
   ],
   "source": [
    "x"
   ]
  },
  {
   "cell_type": "code",
   "execution_count": 5,
   "id": "87cec723-1efe-438f-ac27-346ad7f9f3ea",
   "metadata": {},
   "outputs": [
    {
     "data": {
      "text/plain": [
       "int"
      ]
     },
     "execution_count": 5,
     "metadata": {},
     "output_type": "execute_result"
    }
   ],
   "source": [
    "type(x)"
   ]
  },
  {
   "cell_type": "code",
   "execution_count": 6,
   "id": "c29bb23e-46cf-4782-888c-cf6758fad8ff",
   "metadata": {},
   "outputs": [],
   "source": [
    "name = \"Rahul\""
   ]
  },
  {
   "cell_type": "code",
   "execution_count": 7,
   "id": "4e76e191-00d8-4780-817b-870230d54512",
   "metadata": {},
   "outputs": [
    {
     "data": {
      "text/plain": [
       "str"
      ]
     },
     "execution_count": 7,
     "metadata": {},
     "output_type": "execute_result"
    }
   ],
   "source": [
    "type(name)"
   ]
  },
  {
   "cell_type": "markdown",
   "id": "7aae2f1d-aff8-41be-b3c7-31dd5bb39414",
   "metadata": {},
   "source": [
    "### Numbers"
   ]
  },
  {
   "cell_type": "code",
   "execution_count": 8,
   "id": "71ff4b1b-ae68-41df-ac0d-1d19788df19e",
   "metadata": {},
   "outputs": [
    {
     "data": {
      "text/plain": [
       "float"
      ]
     },
     "execution_count": 8,
     "metadata": {},
     "output_type": "execute_result"
    }
   ],
   "source": [
    "type(2.4)"
   ]
  },
  {
   "cell_type": "code",
   "execution_count": 9,
   "id": "7fd303a3-d956-4201-9ea2-41c5c7b4fa44",
   "metadata": {},
   "outputs": [
    {
     "data": {
      "text/plain": [
       "complex"
      ]
     },
     "execution_count": 9,
     "metadata": {},
     "output_type": "execute_result"
    }
   ],
   "source": [
    "type(1j)"
   ]
  },
  {
   "cell_type": "code",
   "execution_count": 10,
   "id": "8c11d8e7-ebec-4222-9ddd-04843d31e7a0",
   "metadata": {},
   "outputs": [
    {
     "data": {
      "text/plain": [
       "(-2+0j)"
      ]
     },
     "execution_count": 10,
     "metadata": {},
     "output_type": "execute_result"
    }
   ],
   "source": [
    "1j*2j"
   ]
  },
  {
   "cell_type": "markdown",
   "id": "ef6c53dc-b34b-4453-80bd-2f859c4da9f9",
   "metadata": {},
   "source": [
    "### Strings"
   ]
  },
  {
   "cell_type": "code",
   "execution_count": 11,
   "id": "20036a7e-2a8a-435a-8f8e-86280b5f831f",
   "metadata": {},
   "outputs": [
    {
     "data": {
      "text/plain": [
       "'RahulSwami'"
      ]
     },
     "execution_count": 11,
     "metadata": {},
     "output_type": "execute_result"
    }
   ],
   "source": [
    "\"Rahul\" + \"Swami\""
   ]
  },
  {
   "cell_type": "code",
   "execution_count": 12,
   "id": "7c28ac61-e62e-467c-b644-20d6d5af8152",
   "metadata": {},
   "outputs": [
    {
     "data": {
      "text/plain": [
       "'11'"
      ]
     },
     "execution_count": 12,
     "metadata": {},
     "output_type": "execute_result"
    }
   ],
   "source": [
    "'1' + '1'"
   ]
  },
  {
   "cell_type": "markdown",
   "id": "7ecd0d0d-107c-4fd2-85c7-36bc5dd9a652",
   "metadata": {},
   "source": [
    "### Booleans"
   ]
  },
  {
   "cell_type": "code",
   "execution_count": 14,
   "id": "2e7b1c50-9330-4c95-b294-68888cc51dfd",
   "metadata": {},
   "outputs": [
    {
     "data": {
      "text/plain": [
       "True"
      ]
     },
     "execution_count": 14,
     "metadata": {},
     "output_type": "execute_result"
    }
   ],
   "source": [
    "1 == 1"
   ]
  },
  {
   "cell_type": "code",
   "execution_count": 15,
   "id": "92da13c7-5816-4754-80f1-1ea09f74c319",
   "metadata": {},
   "outputs": [
    {
     "data": {
      "text/plain": [
       "False"
      ]
     },
     "execution_count": 15,
     "metadata": {},
     "output_type": "execute_result"
    }
   ],
   "source": [
    "1 == 2"
   ]
  },
  {
   "cell_type": "code",
   "execution_count": null,
   "id": "7ce49baa-b31f-4871-80bc-00c583727f95",
   "metadata": {},
   "outputs": [],
   "source": []
  }
 ],
 "metadata": {
  "kernelspec": {
   "display_name": "Python 3 (ipykernel)",
   "language": "python",
   "name": "python3"
  },
  "language_info": {
   "codemirror_mode": {
    "name": "ipython",
    "version": 3
   },
   "file_extension": ".py",
   "mimetype": "text/x-python",
   "name": "python",
   "nbconvert_exporter": "python",
   "pygments_lexer": "ipython3",
   "version": "3.11.7"
  }
 },
 "nbformat": 4,
 "nbformat_minor": 5
}
