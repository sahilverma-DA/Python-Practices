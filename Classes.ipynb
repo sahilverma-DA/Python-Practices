{
 "cells": [
  {
   "cell_type": "markdown",
   "id": "8a32dcc4-57df-435d-9fba-2a04607c3480",
   "metadata": {},
   "source": [
    "### Classes"
   ]
  },
  {
   "cell_type": "code",
   "execution_count": 35,
   "id": "c190e60b-09c1-46fa-88f5-523564dd99f6",
   "metadata": {},
   "outputs": [],
   "source": [
    "class Dog:\n",
    "    def __init__(self, name):\n",
    "        self.name = name \n",
    "        self.legs = 4\n",
    "\n",
    "    def speak(self):\n",
    "        print(self.name + ' is my dog')\n",
    "\n"
   ]
  },
  {
   "cell_type": "code",
   "execution_count": 39,
   "id": "41cfa6dc-3cc3-48a3-808c-1ec9a7065104",
   "metadata": {},
   "outputs": [],
   "source": [
    "mydog = Dog('jerry')\n",
    "myanotherdog = Dog('tom')"
   ]
  },
  {
   "cell_type": "code",
   "execution_count": 40,
   "id": "0dcf6921-a7c8-4615-b0cf-649d8b7e72da",
   "metadata": {},
   "outputs": [
    {
     "name": "stdout",
     "output_type": "stream",
     "text": [
      "jerry is my dog\n",
      "tom is my dog\n"
     ]
    }
   ],
   "source": [
    "mydog.speak()\n",
    "myanotherdog.speak()"
   ]
  },
  {
   "cell_type": "code",
   "execution_count": 72,
   "id": "743a91f0-0cfa-47cf-a3bc-59e41ef9e1ef",
   "metadata": {},
   "outputs": [],
   "source": [
    "num = 5\n",
    "count = while 1<num:\n",
    "    num "
   ]
  },
  {
   "cell_type": "code",
   "execution_count": 73,
   "id": "9a8fc15d-07b9-4b39-ad45-0a7b2006081c",
   "metadata": {},
   "outputs": [],
   "source": []
  },
  {
   "cell_type": "code",
   "execution_count": 76,
   "id": "b8b8ea61-8798-48fc-bcea-8caf57b68295",
   "metadata": {},
   "outputs": [
    {
     "ename": "AttributeError",
     "evalue": "'function' object has no attribute 'n'",
     "output_type": "error",
     "traceback": [
      "\u001b[1;31m---------------------------------------------------------------------------\u001b[0m",
      "\u001b[1;31mAttributeError\u001b[0m                            Traceback (most recent call last)",
      "Cell \u001b[1;32mIn[76], line 1\u001b[0m\n\u001b[1;32m----> 1\u001b[0m factorial_iterative\u001b[38;5;241m.\u001b[39mn(\u001b[38;5;241m5\u001b[39m)\n",
      "\u001b[1;31mAttributeError\u001b[0m: 'function' object has no attribute 'n'"
     ]
    }
   ],
   "source": []
  },
  {
   "cell_type": "code",
   "execution_count": null,
   "id": "7937e9f4-548b-4773-8ad5-40fcaa56f904",
   "metadata": {},
   "outputs": [],
   "source": []
  }
 ],
 "metadata": {
  "kernelspec": {
   "display_name": "Python 3 (ipykernel)",
   "language": "python",
   "name": "python3"
  },
  "language_info": {
   "codemirror_mode": {
    "name": "ipython",
    "version": 3
   },
   "file_extension": ".py",
   "mimetype": "text/x-python",
   "name": "python",
   "nbconvert_exporter": "python",
   "pygments_lexer": "ipython3",
   "version": "3.11.7"
  }
 },
 "nbformat": 4,
 "nbformat_minor": 5
}
